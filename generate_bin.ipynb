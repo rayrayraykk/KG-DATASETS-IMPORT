{
 "cells": [
  {
   "cell_type": "code",
   "execution_count": 59,
   "metadata": {},
   "outputs": [],
   "source": [
    "import json\n",
    "import pickle\n",
    "from collections import defaultdict\n",
    "ENTITY_2_ID = {}\n",
    "ID_2_ENTITY = {}\n",
    "RELATION_2_ID = {}\n",
    "ID_2_RELATION = {}\n",
    "LEFT_E = {}\n",
    "RIGHT_E = {}\n",
    "LNUM = {}\n",
    "RNUM = {}\n",
    "#_______new dict\n",
    "train_subs=[]\n",
    "entities=[]\n",
    "valid_subs=[]\n",
    "relations=[]\n",
    "test_subs=[]\n",
    "tmp_list=[]\n",
    "#________dict\n",
    "sum={}"
   ]
  },
  {
   "cell_type": "code",
   "execution_count": 60,
   "metadata": {},
   "outputs": [],
   "source": [
    "def default_dict_factory_function():\n",
    "    return 0\n",
    "with open('./data/entity2id.txt','r') as e2id, open('./data/relation2id.txt', 'r') as r2id:\n",
    "    for line in e2id:\n",
    "        entity, entity_id = line.split('\\t')\n",
    "        ENTITY_2_ID[entity] = int(entity_id)\n",
    "        ID_2_ENTITY[int(entity_id)] = entity\n",
    "    for line in r2id:\n",
    "        relation, relation_id = line.split('\\t')\n",
    "        RELATION_2_ID[relation] = int(relation_id)\n",
    "        ID_2_RELATION[int(relation_id)] = relation\n",
    "with open('./data/train.txt', 'r') as file:\n",
    "    for line in file:\n",
    "        e1, e2, relation = line.split('\\t')\n",
    "        relation = relation[:-1] #remove newline\n",
    "        if e1 not in ENTITY_2_ID or e2 not in ENTITY_2_ID:\n",
    "            print('WARNING: %s not in ENTITY_2_ID'% (e1 if e1 not in ENTITY_2_ID else e2))\n",
    "        if relation not in RELATION_2_ID:\n",
    "            print('WARNING %s not in RELATION_2_ID' % relation)\n",
    "            relation_num = len(RELATION_2_ID)\n",
    "            RELATION_2_ID[relation] = relation_num\n",
    "            ID_2_RELATION[relation_num] = relation\n",
    "        if RELATION_2_ID[relation] not in LEFT_E:\n",
    "            LEFT_E[RELATION_2_ID[relation]] = defaultdict(default_dict_factory_function)\n",
    "        if RELATION_2_ID[relation] not in RIGHT_E:\n",
    "            RIGHT_E[RELATION_2_ID[relation]] = defaultdict(default_dict_factory_function)\n",
    "        LEFT_E[RELATION_2_ID[relation]][ENTITY_2_ID[e1]] += 1\n",
    "        RIGHT_E[RELATION_2_ID[relation]][ENTITY_2_ID[e2]] += 1\n",
    "        tmp_list=[ENTITY_2_ID[e1], ENTITY_2_ID[e2], RELATION_2_ID[relation]]\n",
    "        train_subs.append(tmp_list)\n",
    "\n",
    "with open('./data/test.txt', 'r') as file:\n",
    "    for line in file:\n",
    "        e1, e2, relation = line.split('\\t')\n",
    "        relation = relation[:-1] #remove newline\n",
    "        if e1 not in ENTITY_2_ID or e2 not in ENTITY_2_ID:\n",
    "            print('WARNING: %s not in ENTITY_2_ID'% (e1 if e1 not in ENTITY_2_ID else e2))\n",
    "        if relation not in RELATION_2_ID:\n",
    "            print('WARNING %s not in RELATION_2_ID' % relation)\n",
    "            relation_num = len(RELATION_2_ID)\n",
    "            RELATION_2_ID[relation] = relation_num\n",
    "            ID_2_RELATION[relation_num] = relation\n",
    "        if RELATION_2_ID[relation] not in LEFT_E:\n",
    "            LEFT_E[RELATION_2_ID[relation]] = defaultdict(default_dict_factory_function)\n",
    "        if RELATION_2_ID[relation] not in RIGHT_E:\n",
    "            RIGHT_E[RELATION_2_ID[relation]] = defaultdict(default_dict_factory_function)\n",
    "        LEFT_E[RELATION_2_ID[relation]][ENTITY_2_ID[e1]] += 1\n",
    "        RIGHT_E[RELATION_2_ID[relation]][ENTITY_2_ID[e2]] += 1\n",
    "        tmp_list=[ENTITY_2_ID[e1], ENTITY_2_ID[e2], RELATION_2_ID[relation]]\n",
    "        test_subs.append(tmp_list)\n",
    "        \n",
    "with open('./data/valid.txt', 'r') as file:\n",
    "    for line in file:\n",
    "        e1, e2, relation = line.split('\\t')\n",
    "        relation = relation[:-1] #remove newline\n",
    "        if e1 not in ENTITY_2_ID or e2 not in ENTITY_2_ID:\n",
    "            print('WARNING: %s not in ENTITY_2_ID'% (e1 if e1 not in ENTITY_2_ID else e2))\n",
    "        if relation not in RELATION_2_ID:\n",
    "            print('WARNING %s not in RELATION_2_ID' % relation)\n",
    "            relation_num = len(RELATION_2_ID)\n",
    "            RELATION_2_ID[relation] = relation_num\n",
    "            ID_2_RELATION[relation_num] = relation\n",
    "        if RELATION_2_ID[relation] not in LEFT_E:\n",
    "            LEFT_E[RELATION_2_ID[relation]] = defaultdict(default_dict_factory_function)\n",
    "        if RELATION_2_ID[relation] not in RIGHT_E:\n",
    "            RIGHT_E[RELATION_2_ID[relation]] = defaultdict(default_dict_factory_function)\n",
    "        LEFT_E[RELATION_2_ID[relation]][ENTITY_2_ID[e1]] += 1\n",
    "        RIGHT_E[RELATION_2_ID[relation]][ENTITY_2_ID[e2]] += 1\n",
    "        tmp_list=[ENTITY_2_ID[e1], ENTITY_2_ID[e2], RELATION_2_ID[relation]]\n",
    "        valid_subs.append(tmp_list)"
   ]
  },
  {
   "cell_type": "code",
   "execution_count": 61,
   "metadata": {},
   "outputs": [],
   "source": [
    "for i in range(len(ID_2_ENTITY)):\n",
    "    entities.append(ID_2_ENTITY[i])\n",
    "for j in range(len(ID_2_RELATION)):\n",
    "    relations.append(ID_2_RELATION[j])\n",
    "\n",
    "#__________________train list in list"
   ]
  },
  {
   "cell_type": "code",
   "execution_count": 63,
   "metadata": {},
   "outputs": [],
   "source": [
    "#print(entities)\n",
    "#print(relations)\n",
    "#print(train_subs)\n",
    "\n",
    "# file = open('tmp.txt', 'w') \n",
    "# js = json.dumps(valid_subs)\n",
    "# file.write(js)\n",
    "# file.close\n",
    "\n",
    "sum['train_subs']=train_subs\n",
    "sum['test_subs']=test_subs\n",
    "sum['valid_subs']=valid_subs\n",
    "sum['entities']=entities\n",
    "sum['rNames']=relations"
   ]
  },
  {
   "cell_type": "code",
   "execution_count": 72,
   "metadata": {},
   "outputs": [
    {
     "data": {
      "text/plain": [
       "<function BufferedWriter.close>"
      ]
     },
     "execution_count": 72,
     "metadata": {},
     "output_type": "execute_result"
    }
   ],
   "source": [
    "f2=open('fb15k.bin','wb')\n",
    "pickle.dump(sum,f2)\n",
    "f2.close"
   ]
  },
  {
   "cell_type": "code",
   "execution_count": null,
   "metadata": {},
   "outputs": [],
   "source": []
  }
 ],
 "metadata": {
  "kernelspec": {
   "display_name": "Python 3",
   "language": "python",
   "name": "python3"
  },
  "language_info": {
   "codemirror_mode": {
    "name": "ipython",
    "version": 3
   },
   "file_extension": ".py",
   "mimetype": "text/x-python",
   "name": "python",
   "nbconvert_exporter": "python",
   "pygments_lexer": "ipython3",
   "version": "3.5.2"
  }
 },
 "nbformat": 4,
 "nbformat_minor": 2
}
