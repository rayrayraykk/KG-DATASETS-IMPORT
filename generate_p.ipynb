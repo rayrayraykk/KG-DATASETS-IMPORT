{
 "cells": [
  {
   "cell_type": "code",
   "execution_count": 57,
   "metadata": {},
   "outputs": [],
   "source": [
    "import json\n",
    "import pickle\n",
    "import numpy as np\n",
    "from collections import defaultdict\n",
    "ENTITY_2_ID = {}\n",
    "ID_2_ENTITY = {}\n",
    "RELATION_2_ID = {}\n",
    "ID_2_RELATION = {}\n",
    "#_______new dict\n",
    "E=[]\n",
    "entities=[]\n",
    "E_subs=[]\n",
    "relations=[]\n",
    "R=[]\n",
    "R_subs=[]\n",
    "\n",
    "#________dict\n",
    "sum={}"
   ]
  },
  {
   "cell_type": "code",
   "execution_count": 58,
   "metadata": {},
   "outputs": [],
   "source": [
    "def default_dict_factory_function():\n",
    "    return 0\n",
    "with open('./data/entity2id.txt','r') as e2id, open('./data/relation2id.txt', 'r') as r2id:\n",
    "    for line in e2id:\n",
    "        entity, entity_id = line.split('\\t')\n",
    "        ENTITY_2_ID[entity] = int(entity_id)\n",
    "        ID_2_ENTITY[int(entity_id)] = entity\n",
    "    for line in r2id:\n",
    "        relation, relation_id = line.split('\\t')\n",
    "        RELATION_2_ID[relation] = int(relation_id)\n",
    "        ID_2_RELATION[int(relation_id)] = relation\n",
    "with open('./TransE/entity2vec.bern', 'r') as file:\n",
    "    for line in file:\n",
    "        E = line.split('\\t')\n",
    "        E.pop()\n",
    "        E_subs.append(E)\n",
    "E_np=np.asarray(E_subs)\n",
    "with open('./TransE/relation2vec.bern', 'r') as file:\n",
    "    for line in file:\n",
    "        R = line.split('\\t')\n",
    "        R.pop()\n",
    "        R_subs.append(R)\n",
    "R_np=np.asarray(R_subs)  "
   ]
  },
  {
   "cell_type": "code",
   "execution_count": 59,
   "metadata": {},
   "outputs": [],
   "source": [
    "for i in range(len(ID_2_ENTITY)):\n",
    "    entities.append(ID_2_ENTITY[i])\n",
    "for j in range(len(ID_2_RELATION)):\n",
    "    relations.append(ID_2_RELATION[j])\n",
    "\n",
    "#__________________train list in list"
   ]
  },
  {
   "cell_type": "code",
   "execution_count": 63,
   "metadata": {},
   "outputs": [],
   "source": [
    "\n",
    "sum['rNames']=entities\n",
    "sum['eNames']=relations\n",
    "sum['model']='TransE'\n",
    "sum['E']=E_np\n",
    "sum['R']=R_np\n"
   ]
  },
  {
   "cell_type": "code",
   "execution_count": 64,
   "metadata": {},
   "outputs": [
    {
     "data": {
      "text/plain": [
       "<function BufferedWriter.close>"
      ]
     },
     "execution_count": 64,
     "metadata": {},
     "output_type": "execute_result"
    }
   ],
   "source": [
    "f2=open('fb15k_TransE.p','wb')\n",
    "pickle.dump(sum,f2)\n",
    "f2.close"
   ]
  },
  {
   "cell_type": "code",
   "execution_count": null,
   "metadata": {},
   "outputs": [],
   "source": []
  }
 ],
 "metadata": {
  "kernelspec": {
   "display_name": "Python 3",
   "language": "python",
   "name": "python3"
  },
  "language_info": {
   "codemirror_mode": {
    "name": "ipython",
    "version": 3
   },
   "file_extension": ".py",
   "mimetype": "text/x-python",
   "name": "python",
   "nbconvert_exporter": "python",
   "pygments_lexer": "ipython3",
   "version": "3.5.2"
  }
 },
 "nbformat": 4,
 "nbformat_minor": 2
}
